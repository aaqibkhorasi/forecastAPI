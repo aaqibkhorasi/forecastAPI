{
 "cells": [
  {
   "cell_type": "code",
   "execution_count": 14,
   "metadata": {},
   "outputs": [
    {
     "name": "stdout",
     "output_type": "stream",
     "text": [
      "                                 2017-02-01 2017-02-02 2017-02-04 2017-02-05\n",
      "9be000ae23275d57e1273d211a54ffd7        NaN         50        NaN        NaN\n",
      "a35e427b4130be7b2a892e286f0ebb91        NaN        NaN        NaN         75\n"
     ]
    }
   ],
   "source": [
    "import pandas as pd\n",
    "def getData(report, date, locations):\n",
    "    \"\"\"\n",
    "    Get the precipitation probability of all the locations for\n",
    "    the given date\n",
    "    \"\"\"\n",
    "    data = []\n",
    "    for location in locations:\n",
    "        try:\n",
    "            data.append(report[location]['weather'][date]['precipProbability']*100)\n",
    "        except:\n",
    "            data.append('NaN')\n",
    "\n",
    "    return data\n",
    "frames=[]\n",
    "locations = []\n",
    "data=[]\n",
    "pivotTable={}\n",
    "locations.append('9be000ae23275d57e1273d211a54ffd7')\n",
    "locations.append('a35e427b4130be7b2a892e286f0ebb91')\n",
    "report={\"9be000ae23275d57e1273d211a54ffd7\": {\"weather\": {\"2017-02-01\": {\"apparentTemperatureMinTime\": 1485907200, \"precipType\": \"rain\", \"cloudCover\": 0.95, \"temperatureMin\": 46.65, \"summary\": \"Foggy in the morning.\", \"dewPoint\": 48.09, \"apparentTemperatureMax\": 50.46, \"temperatureMax\": 50.46, \"temperatureMaxTime\": 1485961200, \"windBearing\": 173, \"moonPhase\": 0.15, \"visibility\": 4.39, \"sunsetTime\": 1485967844, \"pressure\": 1006.49, \"apparentTemperatureMin\": 42.53, \"icon\": \"fog\", \"apparentTemperatureMaxTime\": 1485961200, \"humidity\": 0.96, \"windSpeed\": 8.52, \"time\": 1485907200, \"sunriseTime\": 1485934901, \"temperatureMinTime\": 1485907200}, \"2017-02-02\": {\"apparentTemperatureMinTime\": 1485907200, \"precipType\": \"rain\", \"cloudCover\": 0.95, \"temperatureMin\": 46.65, \"summary\": \"Foggy in the morning.\", \"dewPoint\": 48.09, \"apparentTemperatureMax\": 50.46, \"temperatureMax\": 50.46, \"temperatureMaxTime\": 1485961200, \"windBearing\": 173, \"moonPhase\": 0.15, \"visibility\": 4.39, \"sunsetTime\": 1485967844, \"pressure\": 1006.49, \"apparentTemperatureMin\": 42.53, \"icon\": \"fog\", \"apparentTemperatureMaxTime\": 1485961200, \"humidity\": 0.96, \"windSpeed\": 8.52, \"time\": 1485907200, \"precipProbability\": 0.5, \"sunriseTime\": 1485934901, \"temperatureMinTime\": 1485907200}}}\n",
    ",\"a35e427b4130be7b2a892e286f0ebb91\": {\"weather\": {\"2017-02-04\": {\"apparentTemperatureMinTime\": 1485907200, \"precipType\": \"rain\", \"cloudCover\": 0.95, \"temperatureMin\": 46.65, \"summary\": \"Foggy in the morning.\", \"dewPoint\": 48.09, \"apparentTemperatureMax\": 50.46, \"temperatureMax\": 50.46, \"temperatureMaxTime\": 1485961200, \"windBearing\": 173, \"moonPhase\": 0.15, \"visibility\": 4.39, \"sunsetTime\": 1485967844, \"pressure\": 1006.49, \"apparentTemperatureMin\": 42.53, \"icon\": \"fog\", \"apparentTemperatureMaxTime\": 1485961200, \"humidity\": 0.96, \"windSpeed\": 8.52, \"time\": 1485907200, \"sunriseTime\": 1485934901, \"temperatureMinTime\": 1485907200}, \"2017-02-05\": {\"apparentTemperatureMinTime\": 1485907200, \"precipType\": \"rain\", \"cloudCover\": 0.95, \"temperatureMin\": 46.65, \"summary\": \"Foggy in the morning.\", \"dewPoint\": 48.09, \"apparentTemperatureMax\": 50.46, \"temperatureMax\": 50.46, \"temperatureMaxTime\": 1485961200, \"windBearing\": 173, \"moonPhase\": 0.15, \"visibility\": 4.39, \"sunsetTime\": 1485967844, \"pressure\": 1006.49, \"apparentTemperatureMin\": 42.53, \"icon\": \"fog\", \"apparentTemperatureMaxTime\": 1485961200, \"humidity\": 0.96, \"windSpeed\": 8.52, \"time\": 1485907200, \"precipProbability\": 0.75, \"sunriseTime\": 1485934901, \"temperatureMinTime\": 1485907200}}}\n",
    "}\n",
    "#report = {\"9be000ae23275d57e1273d211a54ffd7\": {\"weather\": {\"2017-02-01\": {\"apparentTemperatureMinTime\": 1485907200, \"precipType\": \"rain\", \"cloudCover\": 0.95, \"temperatureMin\": 46.65, \"summary\": \"Foggy in the morning.\", \"dewPoint\": 48.09, \"apparentTemperatureMax\": 50.46, \"temperatureMax\": 50.46, \"temperatureMaxTime\": 1485961200, \"windBearing\": 173, \"moonPhase\": 0.15, \"visibility\": 4.39, \"sunsetTime\": 1485967844, \"pressure\": 1006.49, \"apparentTemperatureMin\": 42.53, \"icon\": \"fog\", \"apparentTemperatureMaxTime\": 1485961200, \"humidity\": 0.96, \"windSpeed\": 8.52, \"time\": 1485907200, \"sunriseTime\": 1485934901, \"temperatureMinTime\": 1485907200}, \"2017-02-02\": {\"apparentTemperatureMinTime\": 1485907200, \"precipType\": \"rain\", \"cloudCover\": 0.95, \"temperatureMin\": 46.65, \"summary\": \"Foggy in the morning.\", \"dewPoint\": 48.09, \"apparentTemperatureMax\": 50.46, \"temperatureMax\": 50.46, \"temperatureMaxTime\": 1485961200, \"windBearing\": 173, \"moonPhase\": 0.15, \"visibility\": 4.39, \"sunsetTime\": 1485967844, \"pressure\": 1006.49, \"apparentTemperatureMin\": 42.53, \"icon\": \"fog\", \"apparentTemperatureMaxTime\": 1485961200, \"humidity\": 0.96, \"windSpeed\": 8.52, \"time\": 1485907200, \"precipProbability\": 0.75, \"sunriseTime\": 1485934901, \"temperatureMinTime\": 1485907200}}}}\n",
    "frames.append(pd.DataFrame.from_dict(report['9be000ae23275d57e1273d211a54ffd7']['weather']))\n",
    "frames.append(pd.DataFrame.from_dict(report['a35e427b4130be7b2a892e286f0ebb91']['weather']))\n",
    "allDates = ['2017-02-01','2017-02-02','2017-02-04','2017-02-05']\n",
    "\n",
    "t = pd.concat(frames, keys=locations)\n",
    "t.index.set_names(['loc_id', 'weather'], inplace=True)\n",
    "t.to_csv('weatherreport.csv')\n",
    "\n",
    "for date in allDates:\n",
    "    pivotTable[date] = pd.Series((getData(report, date, locations)), index=locations)\n",
    "print( pd.DataFrame(pivotTable))\n"
   ]
  }
 ],
 "metadata": {
  "kernelspec": {
   "display_name": "Python 3",
   "language": "python",
   "name": "python3"
  },
  "language_info": {
   "codemirror_mode": {
    "name": "ipython",
    "version": 3
   },
   "file_extension": ".py",
   "mimetype": "text/x-python",
   "name": "python",
   "nbconvert_exporter": "python",
   "pygments_lexer": "ipython3",
   "version": "3.5.2"
  }
 },
 "nbformat": 4,
 "nbformat_minor": 2
}
